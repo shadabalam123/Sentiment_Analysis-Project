{
  "nbformat": 4,
  "nbformat_minor": 0,
  "metadata": {
    "kernelspec": {
      "language": "python",
      "display_name": "Python 3",
      "name": "python3"
    },
    "language_info": {
      "name": "python",
      "version": "3.7.10",
      "mimetype": "text/x-python",
      "codemirror_mode": {
        "name": "ipython",
        "version": 3
      },
      "pygments_lexer": "ipython3",
      "nbconvert_exporter": "python",
      "file_extension": ".py"
    },
    "colab": {
      "name": "sentiment-analysis-project.ipynb",
      "provenance": [],
      "collapsed_sections": []
    }
  },
  "cells": [
    {
      "cell_type": "code",
      "metadata": {
        "_uuid": "8f2839f25d086af736a60e9eeb907d3b93b6e0e5",
        "_cell_guid": "b1076dfc-b9ad-4769-8c92-a6c4dae69d19",
        "execution": {
          "iopub.status.busy": "2021-10-27T03:31:41.310629Z",
          "iopub.execute_input": "2021-10-27T03:31:41.310907Z",
          "iopub.status.idle": "2021-10-27T03:31:41.324524Z",
          "shell.execute_reply.started": "2021-10-27T03:31:41.310871Z",
          "shell.execute_reply": "2021-10-27T03:31:41.323800Z"
        },
        "trusted": true,
        "id": "tWTGaraDA8fU"
      },
      "source": [
        "# This Python 3 environment comes with many helpful analytics libraries installed\n",
        "# It is defined by the kaggle/python Docker image: https://github.com/kaggle/docker-python\n",
        "# For example, here's several helpful packages to load\n",
        "\n",
        "import numpy as np # linear algebra\n",
        "import pandas as pd # data processing, CSV file I/O (e.g. pd.read_csv)\n",
        "\n",
        "# Input data files are available in the read-only \"../input/\" directory\n",
        "# For example, running this (by clicking run or pressing Shift+Enter) will list all files under the input directory\n",
        "\n",
        "import os\n",
        "for dirname, _, filenames in os.walk('/kaggle/input'):\n",
        "    for filename in filenames:\n",
        "        print(os.path.join(dirname, filename))\n",
        "\n",
        "# You can write up to 20GB to the current directory (/kaggle/working/) that gets preserved as output when you create a version using \"Save & Run All\" \n",
        "# You can also write temporary files to /kaggle/temp/, but they won't be saved outside of the current session"
      ],
      "execution_count": null,
      "outputs": []
    },
    {
      "cell_type": "code",
      "metadata": {
        "execution": {
          "iopub.status.busy": "2021-10-27T03:31:44.291990Z",
          "iopub.execute_input": "2021-10-27T03:31:44.292523Z",
          "iopub.status.idle": "2021-10-27T03:31:45.924362Z",
          "shell.execute_reply.started": "2021-10-27T03:31:44.292489Z",
          "shell.execute_reply": "2021-10-27T03:31:45.923536Z"
        },
        "trusted": true,
        "id": "hwzBcMMXA8fd"
      },
      "source": [
        "df=pd.read_csv('/kaggle/input/imdb-dataset-of-50k-movie-reviews/IMDB Dataset.csv')"
      ],
      "execution_count": null,
      "outputs": []
    },
    {
      "cell_type": "code",
      "metadata": {
        "execution": {
          "iopub.status.busy": "2021-10-27T03:31:46.834890Z",
          "iopub.execute_input": "2021-10-27T03:31:46.835171Z",
          "iopub.status.idle": "2021-10-27T03:31:46.854167Z",
          "shell.execute_reply.started": "2021-10-27T03:31:46.835139Z",
          "shell.execute_reply": "2021-10-27T03:31:46.853485Z"
        },
        "trusted": true,
        "id": "-2HvUvxaA8ff"
      },
      "source": [
        "df.head()"
      ],
      "execution_count": null,
      "outputs": []
    },
    {
      "cell_type": "code",
      "metadata": {
        "execution": {
          "iopub.status.busy": "2021-10-27T03:31:47.264199Z",
          "iopub.execute_input": "2021-10-27T03:31:47.264482Z",
          "iopub.status.idle": "2021-10-27T03:31:47.273863Z",
          "shell.execute_reply.started": "2021-10-27T03:31:47.264453Z",
          "shell.execute_reply": "2021-10-27T03:31:47.272940Z"
        },
        "trusted": true,
        "id": "4Fsf08giA8fg"
      },
      "source": [
        "df[\"review\"][0]"
      ],
      "execution_count": null,
      "outputs": []
    },
    {
      "cell_type": "markdown",
      "metadata": {
        "id": "VDJ5KxGMA8fh"
      },
      "source": [
        "Text Cleaning\n",
        "1.Sample 10000 rows\n",
        "\n",
        "2.Remove html tags\n",
        "\n",
        "3.Remove special characters\n",
        "\n",
        "4.Conerting everything to lower case\n",
        "\n",
        "5.Removing Stop words\n",
        "\n",
        "6.Stemming"
      ]
    },
    {
      "cell_type": "code",
      "metadata": {
        "execution": {
          "iopub.status.busy": "2021-10-27T03:31:49.158033Z",
          "iopub.execute_input": "2021-10-27T03:31:49.158877Z",
          "iopub.status.idle": "2021-10-27T03:31:49.168305Z",
          "shell.execute_reply.started": "2021-10-27T03:31:49.158831Z",
          "shell.execute_reply": "2021-10-27T03:31:49.167471Z"
        },
        "trusted": true,
        "id": "S1C3btDLA8fk"
      },
      "source": [
        "df=df.sample(10000)"
      ],
      "execution_count": null,
      "outputs": []
    },
    {
      "cell_type": "code",
      "metadata": {
        "execution": {
          "iopub.status.busy": "2021-10-27T03:31:49.654169Z",
          "iopub.execute_input": "2021-10-27T03:31:49.654418Z",
          "iopub.status.idle": "2021-10-27T03:31:49.660074Z",
          "shell.execute_reply.started": "2021-10-27T03:31:49.654390Z",
          "shell.execute_reply": "2021-10-27T03:31:49.659290Z"
        },
        "trusted": true,
        "id": "QHCu9KEiA8fl"
      },
      "source": [
        "df.shape"
      ],
      "execution_count": null,
      "outputs": []
    },
    {
      "cell_type": "code",
      "metadata": {
        "execution": {
          "iopub.status.busy": "2021-10-27T03:31:50.614768Z",
          "iopub.execute_input": "2021-10-27T03:31:50.615043Z",
          "iopub.status.idle": "2021-10-27T03:31:50.635513Z",
          "shell.execute_reply.started": "2021-10-27T03:31:50.615009Z",
          "shell.execute_reply": "2021-10-27T03:31:50.634432Z"
        },
        "trusted": true,
        "id": "LOufgmRCA8fm"
      },
      "source": [
        "df.info()"
      ],
      "execution_count": null,
      "outputs": []
    },
    {
      "cell_type": "code",
      "metadata": {
        "execution": {
          "iopub.status.busy": "2021-10-27T03:31:51.243218Z",
          "iopub.execute_input": "2021-10-27T03:31:51.243957Z",
          "iopub.status.idle": "2021-10-27T03:31:51.254050Z",
          "shell.execute_reply.started": "2021-10-27T03:31:51.243902Z",
          "shell.execute_reply": "2021-10-27T03:31:51.253229Z"
        },
        "trusted": true,
        "id": "1S2k10f1A8fn"
      },
      "source": [
        "df[\"sentiment\"].replace({\"positive\":1,\"negative\":0},inplace=True)"
      ],
      "execution_count": null,
      "outputs": []
    },
    {
      "cell_type": "code",
      "metadata": {
        "execution": {
          "iopub.status.busy": "2021-10-27T03:31:51.255930Z",
          "iopub.execute_input": "2021-10-27T03:31:51.256456Z",
          "iopub.status.idle": "2021-10-27T03:31:51.266107Z",
          "shell.execute_reply.started": "2021-10-27T03:31:51.256417Z",
          "shell.execute_reply": "2021-10-27T03:31:51.265190Z"
        },
        "trusted": true,
        "id": "PhLOytuBA8fo"
      },
      "source": [
        "# Function to clean html tags\n",
        "\n",
        "def clean_html(text):\n",
        "  clean=re.compile(\"<.*?\")\n",
        "  return re.sub(clean,\"\",text)"
      ],
      "execution_count": null,
      "outputs": []
    },
    {
      "cell_type": "code",
      "metadata": {
        "execution": {
          "iopub.status.busy": "2021-10-27T03:31:51.496573Z",
          "iopub.execute_input": "2021-10-27T03:31:51.497230Z",
          "iopub.status.idle": "2021-10-27T03:31:51.554558Z",
          "shell.execute_reply.started": "2021-10-27T03:31:51.497185Z",
          "shell.execute_reply": "2021-10-27T03:31:51.553706Z"
        },
        "trusted": true,
        "id": "YvB16pdBA8fp"
      },
      "source": [
        " import re\n",
        "df[\"review\"]=df[\"review\"].apply(clean_html)\n",
        "df.review.head()"
      ],
      "execution_count": null,
      "outputs": []
    },
    {
      "cell_type": "code",
      "metadata": {
        "execution": {
          "iopub.status.busy": "2021-10-27T03:31:57.030509Z",
          "iopub.execute_input": "2021-10-27T03:31:57.030767Z",
          "iopub.status.idle": "2021-10-27T03:31:57.034465Z",
          "shell.execute_reply.started": "2021-10-27T03:31:57.030740Z",
          "shell.execute_reply": "2021-10-27T03:31:57.033636Z"
        },
        "trusted": true,
        "id": "PHExpOu8A8fq"
      },
      "source": [
        "# converting everything to lower \n",
        "\n",
        "def convert_lower(text):\n",
        "  return text.lower()"
      ],
      "execution_count": null,
      "outputs": []
    },
    {
      "cell_type": "code",
      "metadata": {
        "execution": {
          "iopub.status.busy": "2021-10-27T03:31:57.978426Z",
          "iopub.execute_input": "2021-10-27T03:31:57.979413Z",
          "iopub.status.idle": "2021-10-27T03:31:58.016853Z",
          "shell.execute_reply.started": "2021-10-27T03:31:57.979370Z",
          "shell.execute_reply": "2021-10-27T03:31:58.015752Z"
        },
        "trusted": true,
        "id": "9ve6Y0llA8fr"
      },
      "source": [
        "df[\"review\"]=df.review.apply(convert_lower)"
      ],
      "execution_count": null,
      "outputs": []
    },
    {
      "cell_type": "code",
      "metadata": {
        "execution": {
          "iopub.status.busy": "2021-10-27T03:33:39.603058Z",
          "iopub.execute_input": "2021-10-27T03:33:39.603937Z",
          "iopub.status.idle": "2021-10-27T03:33:39.609469Z",
          "shell.execute_reply.started": "2021-10-27T03:33:39.603884Z",
          "shell.execute_reply": "2021-10-27T03:33:39.608526Z"
        },
        "trusted": true,
        "id": "VR6Lh9rFA8fr"
      },
      "source": [
        "# function to remove special character\n",
        "import re\n",
        "\n",
        "def remove_special(text):\n",
        "  pattern = r'[^A-Za-z0-9]+'\n",
        "  return re.sub(pattern,\" \",text)"
      ],
      "execution_count": null,
      "outputs": []
    },
    {
      "cell_type": "code",
      "metadata": {
        "execution": {
          "iopub.status.busy": "2021-10-27T03:33:42.700263Z",
          "iopub.execute_input": "2021-10-27T03:33:42.700511Z",
          "iopub.status.idle": "2021-10-27T03:33:43.418565Z",
          "shell.execute_reply.started": "2021-10-27T03:33:42.700485Z",
          "shell.execute_reply": "2021-10-27T03:33:43.417642Z"
        },
        "trusted": true,
        "id": "U0rIeL9PA8fs"
      },
      "source": [
        "df[\"review\"]=df.review.apply(remove_special)"
      ],
      "execution_count": null,
      "outputs": []
    },
    {
      "cell_type": "code",
      "metadata": {
        "execution": {
          "iopub.status.busy": "2021-10-27T03:33:46.579889Z",
          "iopub.execute_input": "2021-10-27T03:33:46.580346Z",
          "iopub.status.idle": "2021-10-27T03:33:48.000634Z",
          "shell.execute_reply.started": "2021-10-27T03:33:46.580314Z",
          "shell.execute_reply": "2021-10-27T03:33:47.999885Z"
        },
        "trusted": true,
        "id": "ftzJoSbUA8ft"
      },
      "source": [
        "# Removing the  stop words\n",
        "\n",
        "import nltk\n",
        "from nltk.corpus import stopwords"
      ],
      "execution_count": null,
      "outputs": []
    },
    {
      "cell_type": "code",
      "metadata": {
        "execution": {
          "iopub.status.busy": "2021-10-27T03:33:49.739674Z",
          "iopub.execute_input": "2021-10-27T03:33:49.740326Z",
          "iopub.status.idle": "2021-10-27T03:33:49.753359Z",
          "shell.execute_reply.started": "2021-10-27T03:33:49.740278Z",
          "shell.execute_reply": "2021-10-27T03:33:49.752771Z"
        },
        "trusted": true,
        "id": "aGFlrxxoA8ft"
      },
      "source": [
        "stopwords.words('english')"
      ],
      "execution_count": null,
      "outputs": []
    },
    {
      "cell_type": "code",
      "metadata": {
        "execution": {
          "iopub.status.busy": "2021-10-27T03:33:50.521306Z",
          "iopub.execute_input": "2021-10-27T03:33:50.521600Z",
          "iopub.status.idle": "2021-10-27T03:33:50.526456Z",
          "shell.execute_reply.started": "2021-10-27T03:33:50.521564Z",
          "shell.execute_reply": "2021-10-27T03:33:50.525652Z"
        },
        "trusted": true,
        "id": "m-tE6jusA8fu"
      },
      "source": [
        "def remove_stopwords(text):\n",
        "  x=[]\n",
        "  for i in text.split():\n",
        "\n",
        "    if i not in stopwords.words(\"english\"):\n",
        "      x.append(i)\n",
        "  y=x[:]\n",
        "  x.clear()\n",
        "  return y"
      ],
      "execution_count": null,
      "outputs": []
    },
    {
      "cell_type": "code",
      "metadata": {
        "execution": {
          "iopub.status.busy": "2021-10-27T03:33:52.627569Z",
          "iopub.execute_input": "2021-10-27T03:33:52.628380Z",
          "iopub.status.idle": "2021-10-27T03:38:14.283167Z",
          "shell.execute_reply.started": "2021-10-27T03:33:52.628335Z",
          "shell.execute_reply": "2021-10-27T03:38:14.282075Z"
        },
        "trusted": true,
        "id": "O42FIVptA8fu"
      },
      "source": [
        "df[\"review\"]=df[\"review\"].apply(remove_stopwords)"
      ],
      "execution_count": null,
      "outputs": []
    },
    {
      "cell_type": "code",
      "metadata": {
        "execution": {
          "iopub.status.busy": "2021-10-27T03:43:28.041220Z",
          "iopub.execute_input": "2021-10-27T03:43:28.041542Z",
          "iopub.status.idle": "2021-10-27T03:43:28.170882Z",
          "shell.execute_reply.started": "2021-10-27T03:43:28.041481Z",
          "shell.execute_reply": "2021-10-27T03:43:28.169928Z"
        },
        "trusted": true,
        "id": "PhNok4dfA8fv"
      },
      "source": [
        "df.head()"
      ],
      "execution_count": null,
      "outputs": []
    },
    {
      "cell_type": "code",
      "metadata": {
        "execution": {
          "iopub.status.busy": "2021-10-27T03:44:04.141545Z",
          "iopub.execute_input": "2021-10-27T03:44:04.142423Z",
          "iopub.status.idle": "2021-10-27T03:44:04.147015Z",
          "shell.execute_reply.started": "2021-10-27T03:44:04.142386Z",
          "shell.execute_reply": "2021-10-27T03:44:04.146092Z"
        },
        "trusted": true,
        "id": "7017nlvFA8fw"
      },
      "source": [
        "# Perform Stemming\n",
        "\n",
        "from nltk.stem.porter import PorterStemmer\n",
        "ps=PorterStemmer()"
      ],
      "execution_count": null,
      "outputs": []
    },
    {
      "cell_type": "code",
      "metadata": {
        "execution": {
          "iopub.status.busy": "2021-10-27T03:46:14.801799Z",
          "iopub.execute_input": "2021-10-27T03:46:14.802101Z",
          "iopub.status.idle": "2021-10-27T03:46:14.807270Z",
          "shell.execute_reply.started": "2021-10-27T03:46:14.802068Z",
          "shell.execute_reply": "2021-10-27T03:46:14.806495Z"
        },
        "trusted": true,
        "id": "upQxJZHNA8fx"
      },
      "source": [
        "y=[]\n",
        "def stem_words(text):\n",
        "    for i in text:\n",
        "        y.append(ps.stem(i))\n",
        "        \n",
        "    z=y[:]\n",
        "    y.clear()\n",
        "    return z"
      ],
      "execution_count": null,
      "outputs": []
    },
    {
      "cell_type": "code",
      "metadata": {
        "execution": {
          "iopub.status.busy": "2021-10-27T03:47:12.131121Z",
          "iopub.execute_input": "2021-10-27T03:47:12.131424Z",
          "iopub.status.idle": "2021-10-27T03:47:12.137251Z",
          "shell.execute_reply.started": "2021-10-27T03:47:12.131387Z",
          "shell.execute_reply": "2021-10-27T03:47:12.136479Z"
        },
        "trusted": true,
        "id": "eud4HHJYA8fx"
      },
      "source": [
        "stem_words([\"I\",\"loved\",\"loving\",\"it\"])"
      ],
      "execution_count": null,
      "outputs": []
    },
    {
      "cell_type": "code",
      "metadata": {
        "execution": {
          "iopub.status.busy": "2021-10-27T03:48:36.100981Z",
          "iopub.execute_input": "2021-10-27T03:48:36.101650Z",
          "iopub.status.idle": "2021-10-27T03:48:58.859520Z",
          "shell.execute_reply.started": "2021-10-27T03:48:36.101614Z",
          "shell.execute_reply": "2021-10-27T03:48:58.858818Z"
        },
        "trusted": true,
        "id": "WTbOPCaWA8fy"
      },
      "source": [
        "df[\"review\"]=df[\"review\"].apply(stem_words)"
      ],
      "execution_count": null,
      "outputs": []
    },
    {
      "cell_type": "code",
      "metadata": {
        "execution": {
          "iopub.status.busy": "2021-10-27T03:59:29.257320Z",
          "iopub.execute_input": "2021-10-27T03:59:29.257632Z",
          "iopub.status.idle": "2021-10-27T03:59:29.270486Z",
          "shell.execute_reply.started": "2021-10-27T03:59:29.257598Z",
          "shell.execute_reply": "2021-10-27T03:59:29.269644Z"
        },
        "trusted": true,
        "id": "CsAuWinwA8fz"
      },
      "source": [
        "df.head()"
      ],
      "execution_count": null,
      "outputs": []
    },
    {
      "cell_type": "code",
      "metadata": {
        "execution": {
          "iopub.status.busy": "2021-10-27T03:59:32.217747Z",
          "iopub.execute_input": "2021-10-27T03:59:32.218144Z",
          "iopub.status.idle": "2021-10-27T03:59:32.222067Z",
          "shell.execute_reply.started": "2021-10-27T03:59:32.218116Z",
          "shell.execute_reply": "2021-10-27T03:59:32.221261Z"
        },
        "trusted": true,
        "id": "641MXggEA8fz"
      },
      "source": [
        "# join back\n",
        "\n",
        "def join_back(list_input):\n",
        "    return \" \".join(list_input)"
      ],
      "execution_count": null,
      "outputs": []
    },
    {
      "cell_type": "code",
      "metadata": {
        "execution": {
          "iopub.status.busy": "2021-10-27T04:00:01.595254Z",
          "iopub.execute_input": "2021-10-27T04:00:01.595540Z",
          "iopub.status.idle": "2021-10-27T04:00:01.695805Z",
          "shell.execute_reply.started": "2021-10-27T04:00:01.595508Z",
          "shell.execute_reply": "2021-10-27T04:00:01.694938Z"
        },
        "trusted": true,
        "id": "a_rVhX6zA8f0"
      },
      "source": [
        "df[\"review\"]=df[\"review\"].apply(join_back)"
      ],
      "execution_count": null,
      "outputs": []
    },
    {
      "cell_type": "code",
      "metadata": {
        "execution": {
          "iopub.status.busy": "2021-10-27T04:00:13.982329Z",
          "iopub.execute_input": "2021-10-27T04:00:13.982859Z",
          "iopub.status.idle": "2021-10-27T04:00:13.991664Z",
          "shell.execute_reply.started": "2021-10-27T04:00:13.982822Z",
          "shell.execute_reply": "2021-10-27T04:00:13.990999Z"
        },
        "trusted": true,
        "id": "shaRLYHVA8f1"
      },
      "source": [
        "df.head()"
      ],
      "execution_count": null,
      "outputs": []
    },
    {
      "cell_type": "code",
      "metadata": {
        "execution": {
          "iopub.status.busy": "2021-10-27T04:06:04.738315Z",
          "iopub.execute_input": "2021-10-27T04:06:04.738688Z",
          "iopub.status.idle": "2021-10-27T04:06:04.744480Z",
          "shell.execute_reply.started": "2021-10-27T04:06:04.738636Z",
          "shell.execute_reply": "2021-10-27T04:06:04.743850Z"
        },
        "trusted": true,
        "id": "Q3vsKVikA8f2"
      },
      "source": [
        "x=df.iloc[:,0:1].values"
      ],
      "execution_count": null,
      "outputs": []
    },
    {
      "cell_type": "code",
      "metadata": {
        "execution": {
          "iopub.status.busy": "2021-10-27T04:06:16.616793Z",
          "iopub.execute_input": "2021-10-27T04:06:16.617377Z",
          "iopub.status.idle": "2021-10-27T04:06:16.622468Z",
          "shell.execute_reply.started": "2021-10-27T04:06:16.617337Z",
          "shell.execute_reply": "2021-10-27T04:06:16.621722Z"
        },
        "trusted": true,
        "id": "XXAOWzB-A8f2"
      },
      "source": [
        "x.shape"
      ],
      "execution_count": null,
      "outputs": []
    },
    {
      "cell_type": "code",
      "metadata": {
        "execution": {
          "iopub.status.busy": "2021-10-27T04:12:11.266853Z",
          "iopub.execute_input": "2021-10-27T04:12:11.267138Z",
          "iopub.status.idle": "2021-10-27T04:12:11.274029Z",
          "shell.execute_reply.started": "2021-10-27T04:12:11.267109Z",
          "shell.execute_reply": "2021-10-27T04:12:11.273059Z"
        },
        "trusted": true,
        "id": "FAjNXq32A8f2"
      },
      "source": [
        "from sklearn.feature_extraction.text import CountVectorizer\n",
        "cv=CountVectorizer()"
      ],
      "execution_count": null,
      "outputs": []
    },
    {
      "cell_type": "code",
      "metadata": {
        "execution": {
          "iopub.status.busy": "2021-10-27T04:12:11.276112Z",
          "iopub.execute_input": "2021-10-27T04:12:11.276490Z",
          "iopub.status.idle": "2021-10-27T04:12:14.450030Z",
          "shell.execute_reply.started": "2021-10-27T04:12:11.276430Z",
          "shell.execute_reply": "2021-10-27T04:12:14.449090Z"
        },
        "trusted": true,
        "id": "5BTU4Yj3A8f3"
      },
      "source": [
        "x=cv.fit_transform(df[\"review\"]).toarray()"
      ],
      "execution_count": null,
      "outputs": []
    },
    {
      "cell_type": "code",
      "metadata": {
        "execution": {
          "iopub.status.busy": "2021-10-27T04:12:14.451477Z",
          "iopub.execute_input": "2021-10-27T04:12:14.451694Z",
          "iopub.status.idle": "2021-10-27T04:12:14.457725Z",
          "shell.execute_reply.started": "2021-10-27T04:12:14.451655Z",
          "shell.execute_reply": "2021-10-27T04:12:14.456506Z"
        },
        "trusted": true,
        "id": "7o54I1SiA8f3"
      },
      "source": [
        "x.shape"
      ],
      "execution_count": null,
      "outputs": []
    },
    {
      "cell_type": "code",
      "metadata": {
        "execution": {
          "iopub.status.busy": "2021-10-27T04:13:26.101252Z",
          "iopub.execute_input": "2021-10-27T04:13:26.101511Z",
          "iopub.status.idle": "2021-10-27T04:13:26.106482Z",
          "shell.execute_reply.started": "2021-10-27T04:13:26.101486Z",
          "shell.execute_reply": "2021-10-27T04:13:26.105628Z"
        },
        "trusted": true,
        "id": "idjio1TNA8f3"
      },
      "source": [
        "y=df.iloc[:,-1].values"
      ],
      "execution_count": null,
      "outputs": []
    },
    {
      "cell_type": "code",
      "metadata": {
        "execution": {
          "iopub.status.busy": "2021-10-27T04:13:29.799922Z",
          "iopub.execute_input": "2021-10-27T04:13:29.800730Z",
          "iopub.status.idle": "2021-10-27T04:13:29.806924Z",
          "shell.execute_reply.started": "2021-10-27T04:13:29.800644Z",
          "shell.execute_reply": "2021-10-27T04:13:29.806130Z"
        },
        "trusted": true,
        "id": "w5SQ45EYA8f4"
      },
      "source": [
        "y.shape"
      ],
      "execution_count": null,
      "outputs": []
    },
    {
      "cell_type": "code",
      "metadata": {
        "execution": {
          "iopub.status.busy": "2021-10-27T04:15:39.307567Z",
          "iopub.execute_input": "2021-10-27T04:15:39.307870Z",
          "iopub.status.idle": "2021-10-27T04:15:40.845674Z",
          "shell.execute_reply.started": "2021-10-27T04:15:39.307839Z",
          "shell.execute_reply": "2021-10-27T04:15:40.844970Z"
        },
        "trusted": true,
        "id": "ssWGRWqWA8f4"
      },
      "source": [
        "from sklearn.model_selection import train_test_split\n",
        "\n",
        "x_train,x_test,y_train,y_test=train_test_split(x,y,test_size=0.2)"
      ],
      "execution_count": null,
      "outputs": []
    },
    {
      "cell_type": "code",
      "metadata": {
        "execution": {
          "iopub.status.busy": "2021-10-27T04:15:45.708173Z",
          "iopub.execute_input": "2021-10-27T04:15:45.708903Z",
          "iopub.status.idle": "2021-10-27T04:15:45.714582Z",
          "shell.execute_reply.started": "2021-10-27T04:15:45.708863Z",
          "shell.execute_reply": "2021-10-27T04:15:45.713748Z"
        },
        "trusted": true,
        "id": "JIK7FXMKA8f5"
      },
      "source": [
        "x_train.shape"
      ],
      "execution_count": null,
      "outputs": []
    },
    {
      "cell_type": "code",
      "metadata": {
        "execution": {
          "iopub.status.busy": "2021-10-27T04:15:51.028280Z",
          "iopub.execute_input": "2021-10-27T04:15:51.029037Z",
          "iopub.status.idle": "2021-10-27T04:15:51.034854Z",
          "shell.execute_reply.started": "2021-10-27T04:15:51.028998Z",
          "shell.execute_reply": "2021-10-27T04:15:51.033892Z"
        },
        "trusted": true,
        "id": "sdrQLh01A8f5"
      },
      "source": [
        "x_test.shape"
      ],
      "execution_count": null,
      "outputs": []
    },
    {
      "cell_type": "code",
      "metadata": {
        "execution": {
          "iopub.status.busy": "2021-10-27T04:20:10.634664Z",
          "iopub.execute_input": "2021-10-27T04:20:10.634984Z",
          "iopub.status.idle": "2021-10-27T04:20:10.641952Z",
          "shell.execute_reply.started": "2021-10-27T04:20:10.634948Z",
          "shell.execute_reply": "2021-10-27T04:20:10.641329Z"
        },
        "trusted": true,
        "id": "M-P9l7PwA8f5"
      },
      "source": [
        "from sklearn.naive_bayes import GaussianNB,MultinomialNB,BernoulliNB"
      ],
      "execution_count": null,
      "outputs": []
    },
    {
      "cell_type": "code",
      "metadata": {
        "execution": {
          "iopub.status.busy": "2021-10-27T04:21:03.515010Z",
          "iopub.execute_input": "2021-10-27T04:21:03.515286Z",
          "iopub.status.idle": "2021-10-27T04:21:03.519735Z",
          "shell.execute_reply.started": "2021-10-27T04:21:03.515256Z",
          "shell.execute_reply": "2021-10-27T04:21:03.519139Z"
        },
        "trusted": true,
        "id": "DtwSHyWRA8f6"
      },
      "source": [
        "clf1=GaussianNB()\n",
        "clf2=MultinomialNB()\n",
        "clf3=BernoulliNB()"
      ],
      "execution_count": null,
      "outputs": []
    },
    {
      "cell_type": "code",
      "metadata": {
        "execution": {
          "iopub.status.busy": "2021-10-27T04:21:40.234744Z",
          "iopub.execute_input": "2021-10-27T04:21:40.235270Z",
          "iopub.status.idle": "2021-10-27T04:21:53.143693Z",
          "shell.execute_reply.started": "2021-10-27T04:21:40.235218Z",
          "shell.execute_reply": "2021-10-27T04:21:53.142878Z"
        },
        "trusted": true,
        "id": "GAWaBwN5A8f6"
      },
      "source": [
        "clf1.fit(x_train,y_train)\n",
        "clf2.fit(x_train,y_train)\n",
        "clf3.fit(x_train,y_train)"
      ],
      "execution_count": null,
      "outputs": []
    },
    {
      "cell_type": "code",
      "metadata": {
        "execution": {
          "iopub.status.busy": "2021-10-27T04:25:23.691138Z",
          "iopub.execute_input": "2021-10-27T04:25:23.691466Z",
          "iopub.status.idle": "2021-10-27T04:25:25.767042Z",
          "shell.execute_reply.started": "2021-10-27T04:25:23.691425Z",
          "shell.execute_reply": "2021-10-27T04:25:25.766269Z"
        },
        "trusted": true,
        "id": "bnPcmmBJA8f6"
      },
      "source": [
        "y_pred1=clf1.predict(x_test)\n",
        "y_pred2=clf2.predict(x_test)\n",
        "y_pred3=clf3.predict(x_test)"
      ],
      "execution_count": null,
      "outputs": []
    },
    {
      "cell_type": "code",
      "metadata": {
        "execution": {
          "iopub.status.busy": "2021-10-27T04:25:27.509761Z",
          "iopub.execute_input": "2021-10-27T04:25:27.510090Z",
          "iopub.status.idle": "2021-10-27T04:25:27.514193Z",
          "shell.execute_reply.started": "2021-10-27T04:25:27.510058Z",
          "shell.execute_reply": "2021-10-27T04:25:27.513594Z"
        },
        "trusted": true,
        "id": "Lre2Q-71A8f7"
      },
      "source": [
        "from sklearn.metrics import accuracy_score"
      ],
      "execution_count": null,
      "outputs": []
    },
    {
      "cell_type": "code",
      "metadata": {
        "execution": {
          "iopub.status.busy": "2021-10-27T04:25:28.589818Z",
          "iopub.execute_input": "2021-10-27T04:25:28.590196Z",
          "iopub.status.idle": "2021-10-27T04:25:28.598463Z",
          "shell.execute_reply.started": "2021-10-27T04:25:28.590168Z",
          "shell.execute_reply": "2021-10-27T04:25:28.597808Z"
        },
        "trusted": true,
        "id": "Lri_7E3nA8f7"
      },
      "source": [
        "print(\"Gaussian\",accuracy_score(y_test,y_pred1))\n",
        "print(\"Multinmial\",accuracy_score(y_test,y_pred2))\n",
        "print(\"Bernoulli\",accuracy_score(y_test,y_pred3))"
      ],
      "execution_count": null,
      "outputs": []
    },
    {
      "cell_type": "code",
      "metadata": {
        "execution": {
          "iopub.status.busy": "2021-10-27T04:27:33.945725Z",
          "iopub.execute_input": "2021-10-27T04:27:33.946115Z",
          "iopub.status.idle": "2021-10-27T04:27:33.951123Z",
          "shell.execute_reply.started": "2021-10-27T04:27:33.946069Z",
          "shell.execute_reply": "2021-10-27T04:27:33.950065Z"
        },
        "trusted": true,
        "id": "6iyQlV7oA8f8"
      },
      "source": [
        "# we can improve the accuracy using manually doing Hyperparameter tuning by setting max_features to 500 hyperparameter\n",
        "# under the class CountVectorizer \n",
        "\n"
      ],
      "execution_count": null,
      "outputs": []
    },
    {
      "cell_type": "code",
      "metadata": {
        "id": "5c0bjxkiA8f9"
      },
      "source": [
        ""
      ],
      "execution_count": null,
      "outputs": []
    }
  ]
}